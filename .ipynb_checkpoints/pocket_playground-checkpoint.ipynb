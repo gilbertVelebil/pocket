{
 "cells": [
  {
   "cell_type": "code",
   "execution_count": 45,
   "metadata": {
    "collapsed": true
   },
   "outputs": [],
   "source": [
    "from imp import reload\n",
    "import general_utils as gu\n",
    "import sqlite_utils as su"
   ]
  },
  {
   "cell_type": "code",
   "execution_count": 50,
   "metadata": {
    "collapsed": false
   },
   "outputs": [],
   "source": [
    "reload(gu)\n",
    "reload(su)\n",
    "drop = gu.Drop(cr[0])\n",
    "db_nm = drop.getTempFile('ars_articles.db','ars_articles.db')\n",
    "# print(fl)\n",
    "\n",
    "# fl_loc = open(fl,'ab')\n",
    "# fl_loc.write(b'added from Python')\n",
    "# fl_loc.close()\n",
    "\n",
    "# resp = drop.uploadTempFile()\n",
    "# resp = drop.uploadTempFile('new_testing.txt')\n",
    "# resp = drop.uploadTempFile('new_testing.txt',del_local=False)\n",
    "# resp = drop.uploadTempFile()\n",
    "# print(resp)\n",
    "\n",
    "# logging to db\n",
    "\n",
    "log_resp = su.logRecord(db_nm,'articles',1,'sample_link',\n",
    "                        'title1','author1',11,111)\n",
    "\n",
    "upload_resp = drop.uploadTempFile()\n"
   ]
  },
  {
   "cell_type": "code",
   "execution_count": 1,
   "metadata": {
    "collapsed": false
   },
   "outputs": [
    {
     "ename": "NameError",
     "evalue": "name 'log_resp' is not defined",
     "output_type": "error",
     "traceback": [
      "\u001b[0;31m---------------------------------------------------------------------------\u001b[0m",
      "\u001b[0;31mNameError\u001b[0m                                 Traceback (most recent call last)",
      "\u001b[0;32m<ipython-input-1-0476518506b5>\u001b[0m in \u001b[0;36m<module>\u001b[0;34m()\u001b[0m\n\u001b[0;32m----> 1\u001b[0;31m \u001b[0mprint\u001b[0m\u001b[0;34m(\u001b[0m\u001b[0mlog_resp\u001b[0m\u001b[0;34m)\u001b[0m\u001b[0;34m\u001b[0m\u001b[0m\n\u001b[0m\u001b[1;32m      2\u001b[0m \u001b[0mprint\u001b[0m\u001b[0;34m(\u001b[0m\u001b[0mupload_resp\u001b[0m\u001b[0;34m)\u001b[0m\u001b[0;34m\u001b[0m\u001b[0m\n",
      "\u001b[0;31mNameError\u001b[0m: name 'log_resp' is not defined"
     ]
    }
   ],
   "source": [
    "print(log_resp)\n",
    "print(upload_resp)\n"
   ]
  },
  {
   "cell_type": "code",
   "execution_count": 6,
   "metadata": {
    "collapsed": false
   },
   "outputs": [
    {
     "ename": "AttributeError",
     "evalue": "'Drop' object has no attribute 'local_fl'",
     "output_type": "error",
     "traceback": [
      "\u001b[0;31m---------------------------------------------------------------------------\u001b[0m",
      "\u001b[0;31mAttributeError\u001b[0m                            Traceback (most recent call last)",
      "\u001b[0;32m<ipython-input-6-693a62080477>\u001b[0m in \u001b[0;36m<module>\u001b[0;34m()\u001b[0m\n\u001b[1;32m      4\u001b[0m \u001b[0mdrop\u001b[0m \u001b[0;34m=\u001b[0m \u001b[0mDrop\u001b[0m\u001b[0;34m(\u001b[0m\u001b[0mdropbox_token\u001b[0m\u001b[0;34m)\u001b[0m\u001b[0;34m\u001b[0m\u001b[0m\n\u001b[1;32m      5\u001b[0m \u001b[0;34m\u001b[0m\u001b[0m\n\u001b[0;32m----> 6\u001b[0;31m \u001b[0mx\u001b[0m \u001b[0;34m=\u001b[0m \u001b[0mdrop\u001b[0m\u001b[0;34m.\u001b[0m\u001b[0muploadTempFile\u001b[0m\u001b[0;34m(\u001b[0m\u001b[0mlocal_fl_nm\u001b[0m\u001b[0;34m=\u001b[0m\u001b[0;34m'2017-04-22_home_gilbert_downloads.txt'\u001b[0m\u001b[0;34m)\u001b[0m\u001b[0;34m\u001b[0m\u001b[0m\n\u001b[0m\u001b[1;32m      7\u001b[0m \u001b[0mprint\u001b[0m\u001b[0;34m(\u001b[0m\u001b[0mx\u001b[0m\u001b[0;34m)\u001b[0m\u001b[0;34m\u001b[0m\u001b[0m\n",
      "\u001b[0;32m/home/gilbert/Dropbox/Python/pocket/general_utils.py\u001b[0m in \u001b[0;36muploadTempFile\u001b[0;34m(self, local_fl_nm, drop_fl_nm, del_local)\u001b[0m\n\u001b[1;32m    125\u001b[0m                         \u001b[0;32mreturn\u001b[0m \u001b[0;32mFalse\u001b[0m\u001b[0;34m\u001b[0m\u001b[0m\n\u001b[1;32m    126\u001b[0m                 \u001b[0;32mif\u001b[0m \u001b[0mdel_local\u001b[0m\u001b[0;34m:\u001b[0m\u001b[0;34m\u001b[0m\u001b[0m\n\u001b[0;32m--> 127\u001b[0;31m                         \u001b[0mos\u001b[0m\u001b[0;34m.\u001b[0m\u001b[0mremove\u001b[0m\u001b[0;34m(\u001b[0m\u001b[0mself\u001b[0m\u001b[0;34m.\u001b[0m\u001b[0mlocal_file_abs_path\u001b[0m\u001b[0;34m)\u001b[0m\u001b[0;34m\u001b[0m\u001b[0m\n\u001b[0m\u001b[1;32m    128\u001b[0m \u001b[0;34m\u001b[0m\u001b[0m\n\u001b[1;32m    129\u001b[0m                 \u001b[0;31m# @@@ alternative: True\u001b[0m\u001b[0;34m\u001b[0m\u001b[0;34m\u001b[0m\u001b[0m\n",
      "\u001b[0;31mAttributeError\u001b[0m: 'Drop' object has no attribute 'local_fl'"
     ]
    }
   ],
   "source": [
    "from general_utils import *\n",
    "from shared_constants import *\n",
    "dropbox_token = readTabbedFile(absFilePath(CREDENTIALS_DROPBOX_FL))[0]\n",
    "drop = Drop(dropbox_token)\n",
    "\n",
    "x = drop.uploadTempFile(local_fl_nm='2017-04-22_home_gilbert_downloads.txt')\n",
    "print(x)"
   ]
  }
 ],
 "metadata": {
  "kernelspec": {
   "display_name": "Python 3",
   "language": "python",
   "name": "python3"
  },
  "language_info": {
   "codemirror_mode": {
    "name": "ipython",
    "version": 3
   },
   "file_extension": ".py",
   "mimetype": "text/x-python",
   "name": "python",
   "nbconvert_exporter": "python",
   "pygments_lexer": "ipython3",
   "version": "3.5.2"
  }
 },
 "nbformat": 4,
 "nbformat_minor": 1
}
